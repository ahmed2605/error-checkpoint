{
 "cells": [
  {
   "cell_type": "code",
   "execution_count": null,
   "id": "6ec996d2",
   "metadata": {},
   "outputs": [],
   "source": [
    "i=14\n",
    "while i<78:\n",
    "    print(i)\n",
    "    i+=1"
   ]
  },
  {
   "cell_type": "code",
   "execution_count": null,
   "id": "bb81a5bf",
   "metadata": {},
   "outputs": [],
   "source": [
    "it=iter([1,2,3])\n",
    "next(it)\n",
    "next(it)\n",
    "next(it)\n"
   ]
  },
  {
   "cell_type": "code",
   "execution_count": null,
   "id": "f52ba7b4",
   "metadata": {},
   "outputs": [],
   "source": [
    "15+15"
   ]
  },
  {
   "cell_type": "code",
   "execution_count": null,
   "id": "ff20f465",
   "metadata": {},
   "outputs": [],
   "source": [
    "int(0)"
   ]
  },
  {
   "cell_type": "code",
   "execution_count": null,
   "id": "3c18afb5",
   "metadata": {},
   "outputs": [],
   "source": [
    "python=1\n",
    "print(python)"
   ]
  },
  {
   "cell_type": "code",
   "execution_count": null,
   "id": "da9fc1c0",
   "metadata": {},
   "outputs": [],
   "source": [
    "19/2"
   ]
  }
 ],
 "metadata": {
  "kernelspec": {
   "display_name": "Python 3",
   "language": "python",
   "name": "python3"
  }
 },
 "nbformat": 4,
 "nbformat_minor": 5
}
